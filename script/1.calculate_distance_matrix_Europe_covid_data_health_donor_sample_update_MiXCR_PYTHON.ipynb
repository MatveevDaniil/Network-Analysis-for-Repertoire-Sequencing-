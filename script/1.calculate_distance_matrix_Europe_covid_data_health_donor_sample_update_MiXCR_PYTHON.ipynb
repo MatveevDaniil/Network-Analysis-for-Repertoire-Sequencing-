{
 "cells": [
  {
   "cell_type": "code",
   "execution_count": 29,
   "metadata": {},
   "outputs": [],
   "source": [
    "import os\n",
    "import random\n",
    "import pandas as pd\n",
    "import numpy as np\n",
    "from datetime import datetime\n",
    "import time\n",
    "#from Levenshtein import distance\n",
    "from scipy.spatial.distance import pdist, squareform\n",
    "from scipy import sparse, io"
   ]
  },
  {
   "cell_type": "code",
   "execution_count": 30,
   "metadata": {},
   "outputs": [],
   "source": [
    "def homogenized(strings):\n",
    "    lengths = [len(s) for s in strings]\n",
    "    n = max(lengths)\n",
    "    for s in strings:\n",
    "        k = len(s)\n",
    "        yield [k] + [ord(c) for c in s] + [0] * (n - k)"
   ]
  },
  {
   "cell_type": "code",
   "execution_count": 2,
   "metadata": {},
   "outputs": [],
   "source": [
    "os.chdir(\"../output/\")"
   ]
  },
  {
   "cell_type": "code",
   "execution_count": 10,
   "metadata": {},
   "outputs": [
    {
     "name": "stdout",
     "output_type": "stream",
     "text": [
      "0.8347577610922152\n"
     ]
    }
   ],
   "source": [
    "random.seed(9999)\n",
    "print(random.random())\n",
    "#This checks the current working directory\n",
    "# print(\"Current Working Directory \" , os.getcwd())"
   ]
  },
  {
   "cell_type": "code",
   "execution_count": 24,
   "metadata": {},
   "outputs": [
    {
     "name": "stdout",
     "output_type": "stream",
     "text": [
      "TRB-Pt-10-2\n"
     ]
    }
   ],
   "source": [
    "#The goal is to match row data with distance matrix\n",
    "sample_id = \"TRB-Pt-10-2\"\n",
    "print(sample_id)\n",
    "parent_dir = \"./\"\n",
    "directory = sample_id + \"_hamming/\"\n",
    "path = os.path.join(parent_dir, directory)\n",
    "#Equiivalent of the dir.create function in R\n",
    "#os.mkdir(path)\n",
    "input_data = pd.read_table(\"../data/TRB-Pt-10-2-500ng-15-04-2020-gDNA_S48.clones.txt\", delimiter = '\\t')"
   ]
  },
  {
   "cell_type": "code",
   "execution_count": 25,
   "metadata": {},
   "outputs": [
    {
     "name": "stdout",
     "output_type": "stream",
     "text": [
      "2906\n"
     ]
    }
   ],
   "source": [
    "print(len(np.unique(input_data['aaSeqCDR3'])))\n",
    "nSeqCDR3list = list(input_data['nSeqCDR3'])\n",
    "aaSeqCDR3list = list(input_data['aaSeqCDR3'])\n",
    "cloneCountlist = list(input_data['cloneCount'])\n",
    "cloneFractionlist  = list(input_data['cloneFraction'])\n",
    "\n",
    "sub_input = pd.DataFrame(dict(nSeqCDR3list = nSeqCDR3list, aaSeqCDR3list = aaSeqCDR3list, cloneCountlist = cloneCountlist, cloneFractionlist = cloneFractionlist))\n",
    "sub_input2 = pd.DataFrame(dict(aaSeqCDR3list =  aaSeqCDR3list, aaSeqCDR3list2 = aaSeqCDR3list, cloneCountlist = cloneCountlist, cloneFractionlist = cloneFractionlist)) \n"
   ]
  },
  {
   "cell_type": "code",
   "execution_count": 26,
   "metadata": {},
   "outputs": [
    {
     "name": "stdout",
     "output_type": "stream",
     "text": [
      "<class 'pandas.core.frame.DataFrame'>\n",
      "RangeIndex: 2906 entries, 0 to 2905\n",
      "Data columns (total 2 columns):\n",
      " #   Column                   Non-Null Count  Dtype \n",
      "---  ------                   --------------  ----- \n",
      " 0   aaSeqCDR3                2906 non-null   object\n",
      " 1   unique_nucleotide_count  2906 non-null   int64 \n",
      "dtypes: int64(1), object(1)\n",
      "memory usage: 45.5+ KB\n",
      "None\n"
     ]
    }
   ],
   "source": [
    "agg_count_on_aa = sub_input2[['cloneCountlist', 'cloneFractionlist', 'aaSeqCDR3list2']].groupby(aaSeqCDR3list).agg(['sum'])\n",
    "agg_count_on_aa.columns = ['cloneCount', 'cloneFraction', 'aaSeqCDR3']\n",
    "values = sub_input['aaSeqCDR3list'].value_counts().keys().tolist()\n",
    "counts = sub_input['aaSeqCDR3list'].value_counts().tolist()\n",
    "unique_aa_data = pd.DataFrame({'aaSeqCDR3' : values,\n",
    "                                'unique_nucleotide_count' : counts,\n",
    "                                }, \n",
    "                                columns=['aaSeqCDR3', 'unique_nucleotide_count'])\n",
    "\n",
    "print(unique_aa_data.info())\n"
   ]
  },
  {
   "cell_type": "code",
   "execution_count": 27,
   "metadata": {},
   "outputs": [
    {
     "name": "stdout",
     "output_type": "stream",
     "text": [
      "<class 'pandas.core.frame.DataFrame'>\n",
      "Int64Index: 2906 entries, 0 to 2905\n",
      "Data columns (total 4 columns):\n",
      " #   Column                   Non-Null Count  Dtype  \n",
      "---  ------                   --------------  -----  \n",
      " 0   cloneCount               2906 non-null   float64\n",
      " 1   cloneFraction            2906 non-null   float64\n",
      " 2   aaSeqCDR3                2906 non-null   object \n",
      " 3   unique_nucleotide_count  2841 non-null   float64\n",
      "dtypes: float64(3), object(1)\n",
      "memory usage: 113.5+ KB\n",
      "None\n",
      "<class 'pandas.core.frame.DataFrame'>\n",
      "Int64Index: 2906 entries, 0 to 2905\n",
      "Data columns (total 4 columns):\n",
      " #   Column                   Non-Null Count  Dtype  \n",
      "---  ------                   --------------  -----  \n",
      " 0   cloneCount               2906 non-null   float64\n",
      " 1   cloneFraction            2906 non-null   float64\n",
      " 2   aaSeqCDR3                2906 non-null   object \n",
      " 3   unique_nucleotide_count  2841 non-null   float64\n",
      "dtypes: float64(3), object(1)\n",
      "memory usage: 113.5+ KB\n",
      "None\n",
      "<class 'pandas.core.frame.DataFrame'>\n",
      "Int64Index: 2906 entries, 0 to 2905\n",
      "Data columns (total 4 columns):\n",
      " #   Column                   Non-Null Count  Dtype  \n",
      "---  ------                   --------------  -----  \n",
      " 0   cloneCount               2906 non-null   float64\n",
      " 1   cloneFraction            2906 non-null   float64\n",
      " 2   aaSeqCDR3                2906 non-null   object \n",
      " 3   unique_nucleotide_count  2841 non-null   float64\n",
      "dtypes: float64(3), object(1)\n",
      "memory usage: 113.5+ KB\n",
      "None\n"
     ]
    }
   ],
   "source": [
    "sub_input_unique_count = agg_count_on_aa.merge(unique_aa_data, how = 'left', left_on = \"aaSeqCDR3\", right_on = \"aaSeqCDR3\")\n",
    "print(sub_input_unique_count.info())\n",
    "\n",
    "input_raw_data = sub_input_unique_count\n",
    "print(input_raw_data.info())\n",
    "input_raw_data_unique = input_raw_data\n",
    "input_raw_data_unique.duplicated(subset = \"aaSeqCDR3\", keep = 'first')\n",
    "print(input_raw_data_unique.info())\n",
    "input_raw_data = input_raw_data_unique\n"
   ]
  },
  {
   "cell_type": "code",
   "execution_count": 28,
   "metadata": {},
   "outputs": [
    {
     "name": "stdout",
     "output_type": "stream",
     "text": [
      "2906\n"
     ]
    }
   ],
   "source": [
    "start_time = datetime.now()\n",
    "input_raw_data['AA_length'] = input_raw_data['aaSeqCDR3'].str.len()\n",
    "    \n",
    "sub_input_raw = input_raw_data[(input_raw_data['AA_length'] > 2 ) & (input_raw_data['aaSeqCDR3'] != \"\")]\n",
    "input_AA = sub_input_raw['aaSeqCDR3'].astype(str)\n",
    "print(len(input_AA))\n",
    "if len(input_AA) == 1:\n",
    "    next()\n"
   ]
  },
  {
   "cell_type": "code",
   "execution_count": 31,
   "metadata": {},
   "outputs": [],
   "source": [
    "start_time = time.time()"
   ]
  },
  {
   "cell_type": "code",
   "execution_count": 32,
   "metadata": {},
   "outputs": [],
   "source": [
    "strings = input_raw_data['aaSeqCDR3'].astype(str)\n",
    "strings = input_AA.astype(str)\n",
    "# input_string = strings[0].tolist()\n",
    "input_string = strings.tolist()\n",
    "#input_string = x\n",
    "\n",
    "points = np.array(list(homogenized(input_string)))\n",
    "d = squareform(pdist(points, metric='hamming'))\n",
    "second_min = np.unique(d)[1]\n",
    "\n",
    "d = np.where(d <= second_min, 99 , d)\n",
    "d = np.where(d <= 1, 0 , d)\n",
    "d = np.where(d == 99 , 1 , d)\n",
    "select_col_id = (d.sum(axis = 1) > 1)\n",
    "d = d[select_col_id]\n",
    "d = d[:,np.array(select_col_id)]\n"
   ]
  },
  {
   "cell_type": "code",
   "execution_count": 33,
   "metadata": {},
   "outputs": [],
   "source": [
    "# write distance matrix into file\n",
    "io.mmwrite('hamming_distance_martrix_degree_lt0.mtx', sparse.csr_matrix(d))\n",
    "# np.savetxt(\"select_col_id.csv\", select_col_id, delimiter=\",\")"
   ]
  },
  {
   "cell_type": "code",
   "execution_count": 34,
   "metadata": {},
   "outputs": [
    {
     "name": "stdout",
     "output_type": "stream",
     "text": [
      "2906\n",
      "(403, 403)\n",
      "--- 21.666754007339478 seconds ---\n"
     ]
    }
   ],
   "source": [
    "print(len(input_string))\n",
    "print(d.shape)\n",
    "print('--- %s seconds ---' % (time.time() - start_time))\n",
    "\n",
    "#rename the hamming distance file by sample_id and Vgene\n",
    "os.rename('hamming_distance_martrix_degree_lt0.mtx', 'distance_matrix_betaCDR3_Europe_covid_data_'+ sample_id + '.mtx')\n"
   ]
  },
  {
   "cell_type": "code",
   "execution_count": null,
   "metadata": {},
   "outputs": [],
   "source": []
  }
 ],
 "metadata": {
  "kernelspec": {
   "display_name": "Python 3",
   "language": "python",
   "name": "python3"
  },
  "language_info": {
   "codemirror_mode": {
    "name": "ipython",
    "version": 3
   },
   "file_extension": ".py",
   "mimetype": "text/x-python",
   "name": "python",
   "nbconvert_exporter": "python",
   "pygments_lexer": "ipython3",
   "version": "3.7.6"
  }
 },
 "nbformat": 4,
 "nbformat_minor": 4
}
